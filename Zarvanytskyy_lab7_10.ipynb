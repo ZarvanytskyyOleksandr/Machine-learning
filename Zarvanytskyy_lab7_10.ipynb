{
  "nbformat": 4,
  "nbformat_minor": 0,
  "metadata": {
    "colab": {
      "provenance": [],
      "toc_visible": true
    },
    "kernelspec": {
      "name": "python3",
      "display_name": "Python 3"
    },
    "language_info": {
      "name": "python"
    }
  },
  "cells": [
    {
      "cell_type": "code",
      "execution_count": null,
      "metadata": {
        "colab": {
          "base_uri": "https://localhost:8080/"
        },
        "id": "wjuae-spyjSz",
        "outputId": "2a2b1d11-9543-4e96-aaff-905d0fcce0c6"
      },
      "outputs": [
        {
          "output_type": "stream",
          "name": "stdout",
          "text": [
            "Collecting scikit-surprise\n",
            "  Using cached scikit_surprise-1.1.4.tar.gz (154 kB)\n",
            "  Installing build dependencies ... \u001b[?25l\u001b[?25hdone\n",
            "  Getting requirements to build wheel ... \u001b[?25l\u001b[?25hdone\n",
            "  Preparing metadata (pyproject.toml) ... \u001b[?25l\u001b[?25hdone\n",
            "Requirement already satisfied: joblib>=1.2.0 in /usr/local/lib/python3.10/dist-packages (from scikit-surprise) (1.4.2)\n",
            "Requirement already satisfied: numpy>=1.19.5 in /usr/local/lib/python3.10/dist-packages (from scikit-surprise) (1.26.4)\n",
            "Requirement already satisfied: scipy>=1.6.0 in /usr/local/lib/python3.10/dist-packages (from scikit-surprise) (1.13.1)\n",
            "Building wheels for collected packages: scikit-surprise\n",
            "  Building wheel for scikit-surprise (pyproject.toml) ... \u001b[?25l\u001b[?25hdone\n",
            "  Created wheel for scikit-surprise: filename=scikit_surprise-1.1.4-cp310-cp310-linux_x86_64.whl size=2357284 sha256=b4e3e4912307540eff89d0a90b0dbadb4b7a9654a4a5ec5684d4d7635a901fdc\n",
            "  Stored in directory: /root/.cache/pip/wheels/4b/3f/df/6acbf0a40397d9bf3ff97f582cc22fb9ce66adde75bc71fd54\n",
            "Successfully built scikit-surprise\n",
            "Installing collected packages: scikit-surprise\n",
            "Successfully installed scikit-surprise-1.1.4\n"
          ]
        }
      ],
      "source": [
        "!pip install scikit-surprise"
      ]
    },
    {
      "cell_type": "markdown",
      "source": [
        "# Завдання 1"
      ],
      "metadata": {
        "id": "UNrnBgiyyoFW"
      }
    },
    {
      "cell_type": "code",
      "source": [
        "from surprise import Dataset, Reader\n",
        "from surprise import SVD, KNNBasic\n",
        "from surprise.model_selection import cross_validate, GridSearchCV\n",
        "from surprise import accuracy\n",
        "from surprise.model_selection import train_test_split"
      ],
      "metadata": {
        "id": "fyRiJz-hy-FL"
      },
      "execution_count": null,
      "outputs": []
    },
    {
      "cell_type": "markdown",
      "source": [
        "1. Завантажте датасет для рецензій (ml-100k) за допомогою бібліотеки Surprise."
      ],
      "metadata": {
        "id": "S5GcVQA3zbi-"
      }
    },
    {
      "cell_type": "code",
      "source": [
        "data = Dataset.load_builtin('ml-100k')"
      ],
      "metadata": {
        "colab": {
          "base_uri": "https://localhost:8080/"
        },
        "id": "pSKk0ikFzf2E",
        "outputId": "7e696df9-af3d-4158-e7ae-b5b9b6beaa5a"
      },
      "execution_count": null,
      "outputs": [
        {
          "output_type": "stream",
          "name": "stdout",
          "text": [
            "Dataset ml-100k could not be found. Do you want to download it? [Y/n] Y\n",
            "Trying to download dataset from https://files.grouplens.org/datasets/movielens/ml-100k.zip...\n",
            "Done! Dataset ml-100k has been saved to /root/.surprise_data/ml-100k\n"
          ]
        }
      ]
    },
    {
      "cell_type": "markdown",
      "source": [
        "2. Виведіть перші 5 рядків завантаженого датасету."
      ],
      "metadata": {
        "id": "v3JlqC_3zoB1"
      }
    },
    {
      "cell_type": "code",
      "source": [
        "print(\"Перші 5 рядків датасету:\")\n",
        "for row in data.raw_ratings[:5]:\n",
        "    print(row)"
      ],
      "metadata": {
        "colab": {
          "base_uri": "https://localhost:8080/"
        },
        "id": "T6pO1Flmzppe",
        "outputId": "09ad9660-9965-471a-952f-c8b1ec657cd7"
      },
      "execution_count": null,
      "outputs": [
        {
          "output_type": "stream",
          "name": "stdout",
          "text": [
            "Перші 5 рядків датасету:\n",
            "('196', '242', 3.0, '881250949')\n",
            "('186', '302', 3.0, '891717742')\n",
            "('22', '377', 1.0, '878887116')\n",
            "('244', '51', 2.0, '880606923')\n",
            "('166', '346', 1.0, '886397596')\n"
          ]
        }
      ]
    },
    {
      "cell_type": "markdown",
      "source": [
        " 3. Реалізуйте два алгоритми для рекомендаційної системи на основі цього\n",
        "датасету. Можна вибрати будь-які алгоритми з бібліотеки Surprise.\n",
        " 4. Використайте крос-валідацію для підбору оптимальних параметрів для\n",
        "обох алгоритмів.\n"
      ],
      "metadata": {
        "id": "PH3ERfeMzrtJ"
      }
    },
    {
      "cell_type": "code",
      "source": [
        "trainset, testset = train_test_split(data, test_size=0.2)\n",
        "\n",
        "param_grid_svd = {\n",
        "    'n_factors': [50, 100],\n",
        "    'lr_all': [0.005, 0.010],\n",
        "    'reg_all': [0.02, 0.05]\n",
        "}\n",
        "\n",
        "param_grid_knn = {\n",
        "    'k': [20, 40],\n",
        "    'min_k': [1, 5],\n",
        "    'sim_options': {\n",
        "        'name': ['cosine', 'pearson'],\n",
        "        'user_based': [False, True]\n",
        "    }\n",
        "}\n",
        "\n",
        "grid_search_svd = GridSearchCV(SVD, param_grid_svd, measures=['rmse', 'mae'], cv=5)\n",
        "grid_search_svd.fit(data)\n",
        "\n",
        "grid_search_knn = GridSearchCV(KNNBasic, param_grid_knn, measures=['rmse', 'mae'], cv=5)\n",
        "grid_search_knn.fit(data)"
      ],
      "metadata": {
        "colab": {
          "base_uri": "https://localhost:8080/"
        },
        "id": "HoLkhJvn0DQV",
        "outputId": "b8fe46bc-c04d-4e32-cf9c-16b316a703c3"
      },
      "execution_count": null,
      "outputs": [
        {
          "output_type": "stream",
          "name": "stdout",
          "text": [
            "Computing the cosine similarity matrix...\n",
            "Done computing similarity matrix.\n",
            "Computing the cosine similarity matrix...\n",
            "Done computing similarity matrix.\n",
            "Computing the cosine similarity matrix...\n",
            "Done computing similarity matrix.\n",
            "Computing the cosine similarity matrix...\n",
            "Done computing similarity matrix.\n",
            "Computing the cosine similarity matrix...\n",
            "Done computing similarity matrix.\n",
            "Computing the cosine similarity matrix...\n",
            "Done computing similarity matrix.\n",
            "Computing the cosine similarity matrix...\n",
            "Done computing similarity matrix.\n",
            "Computing the cosine similarity matrix...\n",
            "Done computing similarity matrix.\n",
            "Computing the cosine similarity matrix...\n",
            "Done computing similarity matrix.\n",
            "Computing the cosine similarity matrix...\n",
            "Done computing similarity matrix.\n",
            "Computing the pearson similarity matrix...\n",
            "Done computing similarity matrix.\n",
            "Computing the pearson similarity matrix...\n",
            "Done computing similarity matrix.\n",
            "Computing the pearson similarity matrix...\n",
            "Done computing similarity matrix.\n",
            "Computing the pearson similarity matrix...\n",
            "Done computing similarity matrix.\n",
            "Computing the pearson similarity matrix...\n",
            "Done computing similarity matrix.\n",
            "Computing the pearson similarity matrix...\n",
            "Done computing similarity matrix.\n",
            "Computing the pearson similarity matrix...\n",
            "Done computing similarity matrix.\n",
            "Computing the pearson similarity matrix...\n",
            "Done computing similarity matrix.\n",
            "Computing the pearson similarity matrix...\n",
            "Done computing similarity matrix.\n",
            "Computing the pearson similarity matrix...\n",
            "Done computing similarity matrix.\n",
            "Computing the cosine similarity matrix...\n",
            "Done computing similarity matrix.\n",
            "Computing the cosine similarity matrix...\n",
            "Done computing similarity matrix.\n",
            "Computing the cosine similarity matrix...\n",
            "Done computing similarity matrix.\n",
            "Computing the cosine similarity matrix...\n",
            "Done computing similarity matrix.\n",
            "Computing the cosine similarity matrix...\n",
            "Done computing similarity matrix.\n",
            "Computing the cosine similarity matrix...\n",
            "Done computing similarity matrix.\n",
            "Computing the cosine similarity matrix...\n",
            "Done computing similarity matrix.\n",
            "Computing the cosine similarity matrix...\n",
            "Done computing similarity matrix.\n",
            "Computing the cosine similarity matrix...\n",
            "Done computing similarity matrix.\n",
            "Computing the cosine similarity matrix...\n",
            "Done computing similarity matrix.\n",
            "Computing the pearson similarity matrix...\n",
            "Done computing similarity matrix.\n",
            "Computing the pearson similarity matrix...\n",
            "Done computing similarity matrix.\n",
            "Computing the pearson similarity matrix...\n",
            "Done computing similarity matrix.\n",
            "Computing the pearson similarity matrix...\n",
            "Done computing similarity matrix.\n",
            "Computing the pearson similarity matrix...\n",
            "Done computing similarity matrix.\n",
            "Computing the pearson similarity matrix...\n",
            "Done computing similarity matrix.\n",
            "Computing the pearson similarity matrix...\n",
            "Done computing similarity matrix.\n",
            "Computing the pearson similarity matrix...\n",
            "Done computing similarity matrix.\n",
            "Computing the pearson similarity matrix...\n",
            "Done computing similarity matrix.\n",
            "Computing the pearson similarity matrix...\n",
            "Done computing similarity matrix.\n",
            "Computing the cosine similarity matrix...\n",
            "Done computing similarity matrix.\n",
            "Computing the cosine similarity matrix...\n",
            "Done computing similarity matrix.\n",
            "Computing the cosine similarity matrix...\n",
            "Done computing similarity matrix.\n",
            "Computing the cosine similarity matrix...\n",
            "Done computing similarity matrix.\n",
            "Computing the cosine similarity matrix...\n",
            "Done computing similarity matrix.\n",
            "Computing the cosine similarity matrix...\n",
            "Done computing similarity matrix.\n",
            "Computing the cosine similarity matrix...\n",
            "Done computing similarity matrix.\n",
            "Computing the cosine similarity matrix...\n",
            "Done computing similarity matrix.\n",
            "Computing the cosine similarity matrix...\n",
            "Done computing similarity matrix.\n",
            "Computing the cosine similarity matrix...\n",
            "Done computing similarity matrix.\n",
            "Computing the pearson similarity matrix...\n",
            "Done computing similarity matrix.\n",
            "Computing the pearson similarity matrix...\n",
            "Done computing similarity matrix.\n",
            "Computing the pearson similarity matrix...\n",
            "Done computing similarity matrix.\n",
            "Computing the pearson similarity matrix...\n",
            "Done computing similarity matrix.\n",
            "Computing the pearson similarity matrix...\n",
            "Done computing similarity matrix.\n",
            "Computing the pearson similarity matrix...\n",
            "Done computing similarity matrix.\n",
            "Computing the pearson similarity matrix...\n",
            "Done computing similarity matrix.\n",
            "Computing the pearson similarity matrix...\n",
            "Done computing similarity matrix.\n",
            "Computing the pearson similarity matrix...\n",
            "Done computing similarity matrix.\n",
            "Computing the pearson similarity matrix...\n",
            "Done computing similarity matrix.\n",
            "Computing the cosine similarity matrix...\n",
            "Done computing similarity matrix.\n",
            "Computing the cosine similarity matrix...\n",
            "Done computing similarity matrix.\n",
            "Computing the cosine similarity matrix...\n",
            "Done computing similarity matrix.\n",
            "Computing the cosine similarity matrix...\n",
            "Done computing similarity matrix.\n",
            "Computing the cosine similarity matrix...\n",
            "Done computing similarity matrix.\n",
            "Computing the cosine similarity matrix...\n",
            "Done computing similarity matrix.\n",
            "Computing the cosine similarity matrix...\n",
            "Done computing similarity matrix.\n",
            "Computing the cosine similarity matrix...\n",
            "Done computing similarity matrix.\n",
            "Computing the cosine similarity matrix...\n",
            "Done computing similarity matrix.\n",
            "Computing the cosine similarity matrix...\n",
            "Done computing similarity matrix.\n",
            "Computing the pearson similarity matrix...\n",
            "Done computing similarity matrix.\n",
            "Computing the pearson similarity matrix...\n",
            "Done computing similarity matrix.\n",
            "Computing the pearson similarity matrix...\n",
            "Done computing similarity matrix.\n",
            "Computing the pearson similarity matrix...\n",
            "Done computing similarity matrix.\n",
            "Computing the pearson similarity matrix...\n",
            "Done computing similarity matrix.\n",
            "Computing the pearson similarity matrix...\n",
            "Done computing similarity matrix.\n",
            "Computing the pearson similarity matrix...\n",
            "Done computing similarity matrix.\n",
            "Computing the pearson similarity matrix...\n",
            "Done computing similarity matrix.\n",
            "Computing the pearson similarity matrix...\n",
            "Done computing similarity matrix.\n",
            "Computing the pearson similarity matrix...\n",
            "Done computing similarity matrix.\n"
          ]
        }
      ]
    },
    {
      "cell_type": "markdown",
      "source": [
        " 5. Оберіть найкращий алгоритм на основі середньої абсолютної помилки\n",
        " (MAE)."
      ],
      "metadata": {
        "id": "JCvoXljI0sX6"
      }
    },
    {
      "cell_type": "code",
      "source": [
        "best_svd = grid_search_svd.best_estimator['mae']\n",
        "best_knn = grid_search_knn.best_estimator['mae']\n",
        "\n",
        "print(f\"Найкращий MAE для SVD: {grid_search_svd.best_score['mae']}\")\n",
        "print(f\"Найкращий MAE для KNNBasic: {grid_search_knn.best_score['mae']}\")\n",
        "\n",
        "if grid_search_svd.best_score['mae'] < grid_search_knn.best_score['mae']:\n",
        "    best_model = best_svd\n",
        "    print(\"Вибраний алгоритм: SVD\")\n",
        "else:\n",
        "    best_model = best_knn\n",
        "    print(\"Вибраний алгоритм: KNNBasic\")\n"
      ],
      "metadata": {
        "colab": {
          "base_uri": "https://localhost:8080/"
        },
        "id": "AUtv39s50yy6",
        "outputId": "cf058eab-9cd0-43c3-db3d-4486f4ebeddd"
      },
      "execution_count": null,
      "outputs": [
        {
          "output_type": "stream",
          "name": "stdout",
          "text": [
            "Найкращий MAE для SVD: 0.7243889403077979\n",
            "Найкращий MAE для KNNBasic: 0.8035346990973615\n",
            "Вибраний алгоритм: SVD\n"
          ]
        }
      ]
    },
    {
      "cell_type": "markdown",
      "source": [
        "6. Виведи рекомендації (10 фільмів) для конкретного користувача."
      ],
      "metadata": {
        "id": "lK6EWmKG01l6"
      }
    },
    {
      "cell_type": "code",
      "source": [
        "best_model.fit(trainset)\n",
        "\n",
        "user_id = str(196)\n",
        "user_ratings = trainset.ur[trainset.to_inner_uid(user_id)]\n",
        "print(f\"Кількість рецензій користувача {user_id}: {len(user_ratings)}\")\n",
        "\n",
        "all_items = set(trainset.all_items())\n",
        "rated_items = set([item for (item, _) in user_ratings])\n",
        "unrated_items = all_items - rated_items\n",
        "\n",
        "predictions = [(item, best_model.predict(user_id, trainset.to_raw_iid(item)).est) for item in unrated_items]\n",
        "predictions.sort(key=lambda x: x[1], reverse=True)\n",
        "\n",
        "print(\"Топ-10 фільмів, рекомендованих для користувача:\")\n",
        "for item_id, rating in predictions[:10]:\n",
        "    print(f\"Фільм {trainset.to_raw_iid(item_id)} з прогнозованим рейтингом {rating:.2f}\")"
      ],
      "metadata": {
        "id": "ThJ_1qDN02-H",
        "colab": {
          "base_uri": "https://localhost:8080/"
        },
        "outputId": "f705fe6e-fff1-4b3f-899a-c81ef3a2de45"
      },
      "execution_count": null,
      "outputs": [
        {
          "output_type": "stream",
          "name": "stdout",
          "text": [
            "Кількість рецензій користувача 196: 31\n",
            "Топ-10 фільмів, рекомендованих для користувача:\n",
            "Фільм 923 з прогнозованим рейтингом 4.49\n",
            "Фільм 114 з прогнозованим рейтингом 4.47\n",
            "Фільм 178 з прогнозованим рейтингом 4.39\n",
            "Фільм 96 з прогнозованим рейтингом 4.36\n",
            "Фільм 357 з прогнозованим рейтингом 4.34\n",
            "Фільм 507 з прогнозованим рейтингом 4.33\n",
            "Фільм 1449 з прогнозованим рейтингом 4.32\n",
            "Фільм 318 з прогнозованим рейтингом 4.30\n",
            "Фільм 493 з прогнозованим рейтингом 4.30\n",
            "Фільм 480 з прогнозованим рейтингом 4.29\n"
          ]
        }
      ]
    },
    {
      "cell_type": "markdown",
      "source": [
        "Висновок: Ознайомився з Surprise. Реалізувано два алгоритми для рекомендаційної системи на основі датасету \"ml-100k\", використовуючи крос-валідацію для обох алгоритмів. Також вивів рекомендації для 10 фільмів для конкретного користувача.\n"
      ],
      "metadata": {
        "id": "29QNJqiDxy_g"
      }
    }
  ]
}