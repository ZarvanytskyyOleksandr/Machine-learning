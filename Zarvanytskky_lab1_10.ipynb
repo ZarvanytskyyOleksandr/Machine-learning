{
  "nbformat": 4,
  "nbformat_minor": 0,
  "metadata": {
    "colab": {
      "provenance": []
    },
    "kernelspec": {
      "name": "python3",
      "display_name": "Python 3"
    },
    "language_info": {
      "name": "python"
    }
  },
  "cells": [
    {
      "cell_type": "markdown",
      "source": [
        "Створіть одновимірний масив (вектор) з перших 10 піднесених до квадрату\n",
        "натуральних чисел та виведіть його значення"
      ],
      "metadata": {
        "id": "eaSMjnnkEI7F"
      }
    },
    {
      "cell_type": "code",
      "execution_count": 1,
      "metadata": {
        "colab": {
          "base_uri": "https://localhost:8080/"
        },
        "id": "zZtm612rDy1f",
        "outputId": "9758911d-4baa-42d0-e625-4353355bf872"
      },
      "outputs": [
        {
          "output_type": "stream",
          "name": "stdout",
          "text": [
            "[  1   4   9  16  25  36  49  64  81 100]\n"
          ]
        }
      ],
      "source": [
        "import numpy as np\n",
        "\n",
        "vector = np.array([i**2 for i in range(1, 11)])\n",
        "\n",
        "print(vector)\n"
      ]
    },
    {
      "cell_type": "markdown",
      "source": [
        "Створіть двовимірний масив (матрицю) розміром 3x3, заповніть його значеннями\n",
        "квадратних коренів від кожного натурального числа, починаючи з 1, та виведіть його\n",
        "значення"
      ],
      "metadata": {
        "id": "h1HxQTnGXMRx"
      }
    },
    {
      "cell_type": "code",
      "source": [
        "import numpy as np\n",
        "\n",
        "matrix = np.array([[np.sqrt(i) for i in range(j, j + 3)] for j in range(1, 10, 3)])\n",
        "\n",
        "print(matrix)\n"
      ],
      "metadata": {
        "colab": {
          "base_uri": "https://localhost:8080/"
        },
        "id": "2b9-sVOGXPqr",
        "outputId": "787f7feb-6751-42bb-9b23-a7bd1280785f"
      },
      "execution_count": 2,
      "outputs": [
        {
          "output_type": "stream",
          "name": "stdout",
          "text": [
            "[[1.         1.41421356 1.73205081]\n",
            " [2.         2.23606798 2.44948974]\n",
            " [2.64575131 2.82842712 3.        ]]\n"
          ]
        }
      ]
    },
    {
      "cell_type": "markdown",
      "source": [
        "Створіть масив розміром 3x3, заповніть його випадковими цілими числами в діапазоні\n",
        "від 0 до 5 та виведіть його значення."
      ],
      "metadata": {
        "id": "h2g6sGEBXZnj"
      }
    },
    {
      "cell_type": "code",
      "source": [
        "import numpy as np\n",
        "\n",
        "random_matrix = np.random.randint(0, 6, (3, 3))\n",
        "\n",
        "print(random_matrix)\n"
      ],
      "metadata": {
        "colab": {
          "base_uri": "https://localhost:8080/"
        },
        "id": "k4qHz3AuXlQ6",
        "outputId": "61c486a7-1194-4b4a-fafc-f88a6a513960"
      },
      "execution_count": 4,
      "outputs": [
        {
          "output_type": "stream",
          "name": "stdout",
          "text": [
            "[[0 0 0]\n",
            " [3 0 3]\n",
            " [3 1 1]]\n"
          ]
        }
      ]
    },
    {
      "cell_type": "markdown",
      "source": [
        "Створіть масив розміром 5x5, заповніть його випадковими дійсними числами в\n",
        "діапазоні від 0 до 1 та обчисліть суму елементів, які менше середнього значення.\n"
      ],
      "metadata": {
        "id": "mzhBysOBX6u5"
      }
    },
    {
      "cell_type": "code",
      "source": [
        "import numpy as np\n",
        "\n",
        "random_matrix_5x5 = np.random.rand(5, 5)\n",
        "\n",
        "mean_value = np.mean(random_matrix_5x5)\n",
        "\n",
        "sum_below_mean = np.sum(random_matrix_5x5[random_matrix_5x5 < mean_value])\n",
        "\n",
        "print(\"Масив:\")\n",
        "print(random_matrix_5x5)\n",
        "print(f\"\\nСереднє значення: {mean_value}\")\n",
        "print(f\"Сума елементів, які менше середнього значення: {sum_below_mean}\")\n"
      ],
      "metadata": {
        "colab": {
          "base_uri": "https://localhost:8080/"
        },
        "id": "QJOjQQ2mX7WM",
        "outputId": "871a227a-94be-45eb-9719-b383303a9b3a"
      },
      "execution_count": 5,
      "outputs": [
        {
          "output_type": "stream",
          "name": "stdout",
          "text": [
            "Масив:\n",
            "[[0.07338153 0.03749165 0.76048825 0.16044906 0.6559936 ]\n",
            " [0.56243776 0.34001574 0.51584621 0.02494991 0.52983575]\n",
            " [0.41220094 0.56043541 0.65469617 0.32280407 0.78151701]\n",
            " [0.35173801 0.73768995 0.72566052 0.96063923 0.42801348]\n",
            " [0.03084042 0.39307323 0.4852669  0.47327986 0.17530439]]\n",
            "\n",
            "Середнє значення: 0.44616196207815584\n",
            "Сума елементів, які менше середнього значення: 2.750262427352303\n"
          ]
        }
      ]
    },
    {
      "cell_type": "markdown",
      "source": [
        "Створіть два одновимірних масиви розміром 5, заповніть їх випадковими цілими\n",
        "числами від 1 до 30 та виконайте на них поелементні операції додавання, віднімання\n",
        "та множення."
      ],
      "metadata": {
        "id": "yYx-qLJ2X7w5"
      }
    },
    {
      "cell_type": "code",
      "source": [
        "import numpy as np\n",
        "\n",
        "array1 = np.random.randint(1, 31, 5)\n",
        "array2 = np.random.randint(1, 31, 5)\n",
        "\n",
        "addition = array1 + array2\n",
        "subtraction = array1 - array2\n",
        "multiplication = array1 * array2\n",
        "\n",
        "print(\"Перший масив:\")\n",
        "print(array1)\n",
        "print(\"\\nДругий масив:\")\n",
        "print(array2)\n",
        "\n",
        "print(\"\\nРезультат поелементного додавання:\")\n",
        "print(addition)\n",
        "print(\"\\nРезультат поелементного віднімання:\")\n",
        "print(subtraction)\n",
        "print(\"\\nРезультат поелементного множення:\")\n",
        "print(multiplication)\n"
      ],
      "metadata": {
        "colab": {
          "base_uri": "https://localhost:8080/"
        },
        "id": "Nr7bdTd2X_Kd",
        "outputId": "c8106279-1a4d-4428-9ce5-86c894688e62"
      },
      "execution_count": 7,
      "outputs": [
        {
          "output_type": "stream",
          "name": "stdout",
          "text": [
            "Перший масив:\n",
            "[15 13 26  7 25]\n",
            "\n",
            "Другий масив:\n",
            "[25  5 28  3 14]\n",
            "\n",
            "Результат поелементного додавання:\n",
            "[40 18 54 10 39]\n",
            "\n",
            "Результат поелементного віднімання:\n",
            "[-10   8  -2   4  11]\n",
            "\n",
            "Результат поелементного множення:\n",
            "[375  65 728  21 350]\n"
          ]
        }
      ]
    },
    {
      "cell_type": "markdown",
      "source": [
        "Створіть дві матриці 3x3, заповніть їх довільними дійсними числами від 0 до 1 та\n",
        "знайдіть їх добуток"
      ],
      "metadata": {
        "id": "XUk7vsTNX_fe"
      }
    },
    {
      "cell_type": "code",
      "source": [
        "import numpy as np\n",
        "\n",
        "matrix1 = np.random.rand(3, 3)\n",
        "matrix2 = np.random.rand(3, 3)\n",
        "\n",
        "product = np.dot(matrix1, matrix2)\n",
        "\n",
        "print(\"Перша матриця:\")\n",
        "print(matrix1)\n",
        "print(\"\\nДруга матриця:\")\n",
        "print(matrix2)\n",
        "\n",
        "print(\"\\nДобуток матриць:\")\n",
        "print(product)\n"
      ],
      "metadata": {
        "colab": {
          "base_uri": "https://localhost:8080/"
        },
        "id": "cPV5JjRCYDQD",
        "outputId": "84a3ade3-366e-4e0b-9a29-4a7d7ab40151"
      },
      "execution_count": 8,
      "outputs": [
        {
          "output_type": "stream",
          "name": "stdout",
          "text": [
            "Перша матриця:\n",
            "[[0.4854045  0.86805776 0.27653539]\n",
            " [0.8487806  0.39776047 0.14670851]\n",
            " [0.46471022 0.25344318 0.25094478]]\n",
            "\n",
            "Друга матриця:\n",
            "[[0.20365888 0.98271357 0.2686146 ]\n",
            " [0.74169883 0.86641672 0.25201722]\n",
            " [0.44138797 0.92937985 0.7341829 ]]\n",
            "\n",
            "Добуток матриць:\n",
            "[[0.86475376 1.48611977 0.5521798 ]\n",
            " [0.53263556 1.31508248 0.43594823]\n",
            " [0.39338488 0.90948747 0.37293936]]\n"
          ]
        }
      ]
    },
    {
      "cell_type": "markdown",
      "source": [
        "Створіть дві матриці розміром 2x3 та 3x2, заповніть їх випадковими цілими числами\n",
        "в діапазоні від 1 до 5 та перемножте їх між собою."
      ],
      "metadata": {
        "id": "HMeRs3IrYFx4"
      }
    },
    {
      "cell_type": "code",
      "source": [
        "import numpy as np\n",
        "\n",
        "np.random.seed(0)\n",
        "\n",
        "matrix1 = np.random.randint(1, 6, size=(2, 3))\n",
        "print(\"Матриця 2x3:\")\n",
        "print(matrix1)\n",
        "\n",
        "matrix2 = np.random.randint(1, 6, size=(3, 2))\n",
        "print(\"\\nМатриця 3x2:\")\n",
        "print(matrix2)\n",
        "\n",
        "result = np.dot(matrix1, matrix2)\n",
        "print(\"\\nРезультат множення матриць:\")\n",
        "print(result)\n"
      ],
      "metadata": {
        "colab": {
          "base_uri": "https://localhost:8080/"
        },
        "id": "4fOfZ0nWYGVF",
        "outputId": "ba75ddf4-8eb3-4f10-d904-8e6ec4fa74ea"
      },
      "execution_count": 9,
      "outputs": [
        {
          "output_type": "stream",
          "name": "stdout",
          "text": [
            "Матриця 2x3:\n",
            "[[5 1 4]\n",
            " [4 4 2]]\n",
            "\n",
            "Матриця 3x2:\n",
            "[[4 3]\n",
            " [5 1]\n",
            " [1 5]]\n",
            "\n",
            "Результат множення матриць:\n",
            "[[29 36]\n",
            " [38 26]]\n"
          ]
        }
      ]
    },
    {
      "cell_type": "markdown",
      "source": [
        "Створіть матрицю розміром 3x3, заповніть її випадковими цілими числами в діапазоні\n",
        "від 1 до 10 та знайдіть її обернену матрицю"
      ],
      "metadata": {
        "id": "xG8rwyGmYHeE"
      }
    },
    {
      "cell_type": "code",
      "source": [
        "import numpy as np\n",
        "\n",
        "np.random.seed(0)\n",
        "\n",
        "matrix = np.random.randint(1, 11, size=(3, 3))\n",
        "print(\"Оригінальна матриця 3x3:\")\n",
        "print(matrix)\n",
        "\n",
        "det = np.linalg.det(matrix)\n",
        "if det == 0:\n",
        "    print(\"\\nМатриця є виродженою і не має оберненої матриці.\")\n",
        "else:\n",
        "    inverse_matrix = np.linalg.inv(matrix)\n",
        "    print(\"\\nОбернена матриця:\")\n",
        "    print(inverse_matrix)\n"
      ],
      "metadata": {
        "colab": {
          "base_uri": "https://localhost:8080/"
        },
        "id": "n81xriJVYK0Y",
        "outputId": "7d0b71c5-cce3-4aaa-ee79-731e7abe15f7"
      },
      "execution_count": 10,
      "outputs": [
        {
          "output_type": "stream",
          "name": "stdout",
          "text": [
            "Оригінальна матриця 3x3:\n",
            "[[ 6  1  4]\n",
            " [ 4  8 10]\n",
            " [ 4  6  3]]\n",
            "\n",
            "Обернена матриця:\n",
            "[[ 0.16363636 -0.09545455  0.1       ]\n",
            " [-0.12727273 -0.00909091  0.2       ]\n",
            " [ 0.03636364  0.14545455 -0.2       ]]\n"
          ]
        }
      ]
    },
    {
      "cell_type": "markdown",
      "source": [
        "Створіть матрицю розміром 5x5, заповніть її випадковими дійсними числами в\n",
        "діапазоні від 0 до 1 та транспонуйте її."
      ],
      "metadata": {
        "id": "uT4srT07YLJq"
      }
    },
    {
      "cell_type": "code",
      "source": [
        "import numpy as np\n",
        "\n",
        "np.random.seed(0)\n",
        "\n",
        "matrix = np.random.rand(5, 5)\n",
        "print(\"Оригінальна матриця 5x5:\")\n",
        "print(matrix)\n",
        "\n",
        "transposed_matrix = np.transpose(matrix)\n",
        "print(\"\\nТранспонована матриця:\")\n",
        "print(transposed_matrix)\n"
      ],
      "metadata": {
        "colab": {
          "base_uri": "https://localhost:8080/"
        },
        "id": "V7beD4c7YXY1",
        "outputId": "19696ad6-847f-4a86-ab5f-aff941ac8f3b"
      },
      "execution_count": 11,
      "outputs": [
        {
          "output_type": "stream",
          "name": "stdout",
          "text": [
            "Оригінальна матриця 5x5:\n",
            "[[0.5488135  0.71518937 0.60276338 0.54488318 0.4236548 ]\n",
            " [0.64589411 0.43758721 0.891773   0.96366276 0.38344152]\n",
            " [0.79172504 0.52889492 0.56804456 0.92559664 0.07103606]\n",
            " [0.0871293  0.0202184  0.83261985 0.77815675 0.87001215]\n",
            " [0.97861834 0.79915856 0.46147936 0.78052918 0.11827443]]\n",
            "\n",
            "Транспонована матриця:\n",
            "[[0.5488135  0.64589411 0.79172504 0.0871293  0.97861834]\n",
            " [0.71518937 0.43758721 0.52889492 0.0202184  0.79915856]\n",
            " [0.60276338 0.891773   0.56804456 0.83261985 0.46147936]\n",
            " [0.54488318 0.96366276 0.92559664 0.77815675 0.78052918]\n",
            " [0.4236548  0.38344152 0.07103606 0.87001215 0.11827443]]\n"
          ]
        }
      ]
    },
    {
      "cell_type": "markdown",
      "source": [
        "Створіть матрицю розміром 3x4 та вектор розміром 4x1, заповніть матрицю\n",
        "випадковими цілими числами в діапазоні від -5 до 5, а вектор - випадковими дійсними\n",
        "числами від 0 до 1 і знайдіть добуток матриці на вектор"
      ],
      "metadata": {
        "id": "gINg1iR0YXty"
      }
    },
    {
      "cell_type": "code",
      "source": [
        "import numpy as np\n",
        "\n",
        "np.random.seed(0)\n",
        "\n",
        "matrix = np.random.randint(-5, 6, size=(3, 4))\n",
        "print(\"Матриця 3x4:\")\n",
        "print(matrix)\n",
        "\n",
        "vector = np.random.rand(4, 1)\n",
        "print(\"\\nВектор 4x1:\")\n",
        "print(vector)\n",
        "\n",
        "result = np.dot(matrix, vector)\n",
        "print(\"\\nРезультат множення матриці на вектор:\")\n",
        "print(result)\n"
      ],
      "metadata": {
        "colab": {
          "base_uri": "https://localhost:8080/"
        },
        "id": "3LXObYwtYaA3",
        "outputId": "e36dbc6b-03bf-47af-cc29-54a6c5c7c8d2"
      },
      "execution_count": 12,
      "outputs": [
        {
          "output_type": "stream",
          "name": "stdout",
          "text": [
            "Матриця 3x4:\n",
            "[[ 0 -5 -2 -2]\n",
            " [ 2  4 -2  0]\n",
            " [-3 -1  2  1]]\n",
            "\n",
            "Вектор 4x1:\n",
            "[[0.05671298]\n",
            " [0.27265629]\n",
            " [0.47766512]\n",
            " [0.81216873]]\n",
            "\n",
            "Результат множення матриці на вектор:\n",
            "[[-3.94294917]\n",
            " [ 0.2487209 ]\n",
            " [ 1.32470374]]\n"
          ]
        }
      ]
    },
    {
      "cell_type": "markdown",
      "source": [
        "Створіть матрицю розміром 2x3 та вектор розміром 3x1, заповніть матрицю\n",
        "випадковими дійсними числами від 0 до 1, а вектор - випадковими дійсними числами\n",
        "від 0 до 1, і знайдіть добуток матриці на вектор"
      ],
      "metadata": {
        "id": "RcJ0ET3CYaUV"
      }
    },
    {
      "cell_type": "code",
      "source": [
        "import numpy as np\n",
        "\n",
        "np.random.seed(0)\n",
        "\n",
        "matrix = np.random.rand(2, 3)\n",
        "print(\"Матриця 2x3:\")\n",
        "print(matrix)\n",
        "\n",
        "vector = np.random.rand(3, 1)\n",
        "print(\"\\nВектор 3x1:\")\n",
        "print(vector)\n",
        "\n",
        "result = np.dot(matrix, vector)\n",
        "print(\"\\nРезультат множення матриці на вектор:\")\n",
        "print(result)\n"
      ],
      "metadata": {
        "colab": {
          "base_uri": "https://localhost:8080/"
        },
        "id": "Hzl-X2lcYc-0",
        "outputId": "44f7fafa-12ad-4a40-bc7c-03128d7c11ac"
      },
      "execution_count": 13,
      "outputs": [
        {
          "output_type": "stream",
          "name": "stdout",
          "text": [
            "Матриця 2x3:\n",
            "[[0.5488135  0.71518937 0.60276338]\n",
            " [0.54488318 0.4236548  0.64589411]]\n",
            "\n",
            "Вектор 3x1:\n",
            "[[0.43758721]\n",
            " [0.891773  ]\n",
            " [0.96366276]]\n",
            "\n",
            "Результат множення матриці на вектор:\n",
            "[[1.45880096]\n",
            " [1.23866193]]\n"
          ]
        }
      ]
    },
    {
      "cell_type": "markdown",
      "source": [
        "Створіть дві матриці розміром 3x3, заповніть їх випадковими цілими числами в\n",
        "діапазоні від 1 до 10 та знайдіть суму всіх елементів обох матриць"
      ],
      "metadata": {
        "id": "05SD_VXLYdYV"
      }
    },
    {
      "cell_type": "code",
      "source": [
        "import numpy as np\n",
        "\n",
        "np.random.seed(0)\n",
        "\n",
        "matrix1 = np.random.randint(1, 11, size=(3, 3))\n",
        "print(\"Перша матриця 3x3:\")\n",
        "print(matrix1)\n",
        "\n",
        "matrix2 = np.random.randint(1, 11, size=(3, 3))\n",
        "print(\"\\nДруга матриця 3x3:\")\n",
        "print(matrix2)\n",
        "\n",
        "sum_matrix1 = np.sum(matrix1)\n",
        "sum_matrix2 = np.sum(matrix2)\n",
        "total_sum = sum_matrix1 + sum_matrix2\n",
        "\n",
        "print(\"\\nСума всіх елементів першої матриці:\")\n",
        "print(sum_matrix1)\n",
        "\n",
        "print(\"\\nСума всіх елементів другої матриці:\")\n",
        "print(sum_matrix2)\n",
        "\n",
        "print(\"\\nСума всіх елементів обох матриць:\")\n",
        "print(total_sum)\n"
      ],
      "metadata": {
        "colab": {
          "base_uri": "https://localhost:8080/"
        },
        "id": "PQIFi6yDYgRn",
        "outputId": "8dd1e090-912f-4fe1-a6a7-c1d34ccf2ef8"
      },
      "execution_count": 14,
      "outputs": [
        {
          "output_type": "stream",
          "name": "stdout",
          "text": [
            "Перша матриця 3x3:\n",
            "[[ 6  1  4]\n",
            " [ 4  8 10]\n",
            " [ 4  6  3]]\n",
            "\n",
            "Друга матриця 3x3:\n",
            "[[5 8 7]\n",
            " [9 9 2]\n",
            " [7 8 8]]\n",
            "\n",
            "Сума всіх елементів першої матриці:\n",
            "46\n",
            "\n",
            "Сума всіх елементів другої матриці:\n",
            "63\n",
            "\n",
            "Сума всіх елементів обох матриць:\n",
            "109\n"
          ]
        }
      ]
    },
    {
      "cell_type": "markdown",
      "source": [
        "Створіть дві матриці розміром 2x2, заповніть їх випадковими цілими числами в\n",
        "діапазоні від 1 до 10 та знайдіть різницю їх елементів.\n"
      ],
      "metadata": {
        "id": "IAM-W2rlYh_b"
      }
    },
    {
      "cell_type": "code",
      "source": [
        "import numpy as np\n",
        "\n",
        "np.random.seed(0)\n",
        "\n",
        "matrix1 = np.random.randint(1, 11, size=(2, 2))\n",
        "print(\"Перша матриця 2x2:\")\n",
        "print(matrix1)\n",
        "\n",
        "matrix2 = np.random.randint(1, 11, size=(2, 2))\n",
        "print(\"\\nДруга матриця 2x2:\")\n",
        "print(matrix2)\n",
        "\n",
        "difference = matrix1 - matrix2\n",
        "print(\"\\nРізниця між відповідними елементами матриць:\")\n",
        "print(difference)\n"
      ],
      "metadata": {
        "colab": {
          "base_uri": "https://localhost:8080/"
        },
        "id": "XAzQCnXnYile",
        "outputId": "a2255d33-3c68-49a3-c12d-f3c0c56b23e5"
      },
      "execution_count": 15,
      "outputs": [
        {
          "output_type": "stream",
          "name": "stdout",
          "text": [
            "Перша матриця 2x2:\n",
            "[[6 1]\n",
            " [4 4]]\n",
            "\n",
            "Друга матриця 2x2:\n",
            "[[ 8 10]\n",
            " [ 4  6]]\n",
            "\n",
            "Різниця між відповідними елементами матриць:\n",
            "[[-2 -9]\n",
            " [ 0 -2]]\n"
          ]
        }
      ]
    },
    {
      "cell_type": "markdown",
      "source": [
        "Створіть матрицю розміром 3x3, заповніть її випадковими цілими числами в діапазоні\n",
        "від 1 до 5 та знайдіть кількість парних елементів матриці."
      ],
      "metadata": {
        "id": "AiplpEA-YkRP"
      }
    },
    {
      "cell_type": "code",
      "source": [
        "import numpy as np\n",
        "\n",
        "np.random.seed(0)\n",
        "\n",
        "matrix = np.random.randint(1, 6, size=(3, 3))\n",
        "print(\"Матриця 3x3:\")\n",
        "print(matrix)\n",
        "\n",
        "even_count = np.sum(matrix % 2 == 0)\n",
        "print(\"\\nКількість парних елементів матриці:\")\n",
        "print(even_count)\n"
      ],
      "metadata": {
        "colab": {
          "base_uri": "https://localhost:8080/"
        },
        "id": "dyFmAPVXYkyE",
        "outputId": "878c6fe8-9b80-4dc7-cc45-d337aa36d5d3"
      },
      "execution_count": 16,
      "outputs": [
        {
          "output_type": "stream",
          "name": "stdout",
          "text": [
            "Матриця 3x3:\n",
            "[[5 1 4]\n",
            " [4 4 2]\n",
            " [4 3 5]]\n",
            "\n",
            "Кількість парних елементів матриці:\n",
            "5\n"
          ]
        }
      ]
    },
    {
      "cell_type": "markdown",
      "source": [
        "Створіть матрицю розміром 4x4, заповніть її випадковими дійсними числами в\n",
        "діапазоні від -1 до 1 та знайдіть вектор-стовпчик, що містить суму кубів елементів\n",
        "кожного рядка матриці"
      ],
      "metadata": {
        "id": "7a7X3-AoYlII"
      }
    },
    {
      "cell_type": "code",
      "source": [
        "import numpy as np\n",
        "\n",
        "np.random.seed(0)\n",
        "\n",
        "matrix = np.random.uniform(-1, 1, size=(4, 4))\n",
        "print(\"Матриця 4x4:\")\n",
        "print(matrix)\n",
        "\n",
        "cubes = np.power(matrix, 3)\n",
        "\n",
        "sum_of_cubes = np.sum(cubes, axis=1).reshape(-1, 1)\n",
        "print(\"\\nВектор-стовпчик, що містить суму кубів елементів кожного рядка:\")\n",
        "print(sum_of_cubes)\n"
      ],
      "metadata": {
        "colab": {
          "base_uri": "https://localhost:8080/"
        },
        "id": "9PNS3XtnYnKc",
        "outputId": "5bc52285-857f-4c78-c0f1-0035475c0085"
      },
      "execution_count": 17,
      "outputs": [
        {
          "output_type": "stream",
          "name": "stdout",
          "text": [
            "Матриця 4x4:\n",
            "[[ 0.09762701  0.43037873  0.20552675  0.08976637]\n",
            " [-0.1526904   0.29178823 -0.12482558  0.783546  ]\n",
            " [ 0.92732552 -0.23311696  0.58345008  0.05778984]\n",
            " [ 0.13608912  0.85119328 -0.85792788 -0.8257414 ]]\n",
            "\n",
            "Вектор-стовпчик, що містить суму кубів елементів кожного рядка:\n",
            "[[ 0.0900528 ]\n",
            " [ 0.50039175]\n",
            " [ 0.98357664]\n",
            " [-0.57526483]]\n"
          ]
        }
      ]
    },
    {
      "cell_type": "markdown",
      "source": [
        "**Висновок:** виконав 15 завдань з масивами та матрицями за допомогою бібліотеки NumPy у Python."
      ],
      "metadata": {
        "id": "xM_7HOSabaHC"
      }
    }
  ]
}